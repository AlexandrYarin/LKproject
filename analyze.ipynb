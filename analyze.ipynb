{
 "cells": [
  {
   "cell_type": "code",
   "execution_count": 1,
   "metadata": {},
   "outputs": [],
   "source": [
    "import pandas as pd\n",
    "import numpy as np\n",
    "\n",
    "#визуал\n",
    "import matplotlib.pyplot as plt\n",
    "import seaborn as sns\n",
    "%matplotlib inline\n",
    "plt.style.use('https://github.com/dhaitz/matplotlib-stylesheets/raw/master/pitayasmoothie-dark.mplstyle')\n",
    "\n",
    "#другие штуки\n",
    "import os"
   ]
  },
  {
   "cell_type": "code",
   "execution_count": 4,
   "metadata": {},
   "outputs": [],
   "source": [
    "DIRECTORY_fold = 'data'\n",
    "\n",
    "\n",
    "def get_list_all_files() -> list:\n",
    "    \"\"\"\n",
    "    Returns:\n",
    "        list: функция возвращает названия всех xlsx документов в нужном формате из папки data\n",
    "    \"\"\"\n",
    "    def check_name_file(files: list, directory: str) -> None:\n",
    "        \"\"\"Переименовывает файлы в нужный формат\n",
    "\n",
    "        Args:\n",
    "            files (list): список названий файлов\n",
    "            directory (str): директория данных файлов\n",
    "        \"\"\"\n",
    "        def rename_files(str: str) -> str:\n",
    "            \"\"\"форматирует название файла\n",
    "\n",
    "            Args:\n",
    "                str (str): навзвание файла\n",
    "\n",
    "            Returns:\n",
    "                str: новое название файла\n",
    "            \"\"\"\n",
    "            return '.'.join(str.replace(',', ' ').replace('.', ' ').split()[:2]) + '.xlsx'\n",
    "\n",
    "        for file in files:\n",
    "                old_file = os.path.join(directory, file)\n",
    "                new_file = os.path.join(directory, rename_files(file))\n",
    "                os.rename(old_file, new_file)\n",
    "\n",
    "    ALL_FILES = []\n",
    "    DIRECTORY_fold = 'data'\n",
    "    folds = os.listdir(DIRECTORY_fold)\n",
    "    for fold in folds:\n",
    "        DIRECTORY_file = 'data/' + str(fold)\n",
    "        files = os.listdir(DIRECTORY_file)\n",
    "        check_name_file(files, DIRECTORY_file)\n",
    "        files = os.listdir(DIRECTORY_file)\n",
    "        ALL_FILES.extend(files)\n",
    "    \n",
    "    return ALL_FILES"
   ]
  },
  {
   "cell_type": "code",
   "execution_count": 5,
   "metadata": {},
   "outputs": [],
   "source": [
    "ALL_FILES = get_list_all_files()"
   ]
  },
  {
   "cell_type": "code",
   "execution_count": 6,
   "metadata": {},
   "outputs": [],
   "source": [
    "def conversion(df):\n",
    "    if len(df.columns) > 20:\n",
    "        raise TypeError('Не подходящий формат')\n",
    "    else:\n",
    "        df.drop('Unnamed: 1', axis=1, inplace=True)\n",
    "        df['Unnamed: 3'] = df['Unnamed: 3'].apply(lambda x: np.nan if x == 'Наименование' else x)\n",
    "        df.dropna(axis=0, inplace=True)\n",
    "        df.set_index(np.arange(len(df.index)), inplace=True)\n",
    "        df.drop(df.columns[0], axis=1, inplace=True)\n",
    "\n",
    "        #переименовываем столбцы\n",
    "        df.rename(columns={'Unnamed: 2':'num', 'Unnamed: 3':'ration', 'Unnamed: 4':'address',\n",
    "                        'Unnamed: 5':'start', 'Unnamed: 6':'finish',\n",
    "                        'Unnamed: 7':'comment'}, inplace=True)\n",
    "\n",
    "        # функция которая сокращает название рациона\n",
    "        def edit_ration_name(name):\n",
    "            if 'Снижение' in name:\n",
    "                return name.replace('Снижение', '').strip()\n",
    "            elif 'Баланс' in name:\n",
    "                return name.replace('Баланс', '').strip()\n",
    "            elif 'Classic' in name:\n",
    "                return name.replace('Classic', '').strip()\n",
    "            elif 'Набор' in name:\n",
    "                return name.replace('Набор', '').strip()\n",
    "\n",
    "        df['start'] = df['start'].apply(lambda x: int(x[0]) if len(x) <= 4 else int(x[:2])) # заменяем начало интервала со строкого формата на числовой\n",
    "        df['finish'] = df['finish'].apply(lambda x: int(x[0]) if len(x) <= 4 else int(x[:2]))# заменяем конец интервала со строкого формата на числовой\n",
    "        df['ration'] = df['ration'].apply(edit_ration_name)\n",
    "    \n",
    "        return df"
   ]
  },
  {
   "cell_type": "code",
   "execution_count": 7,
   "metadata": {},
   "outputs": [],
   "source": [
    "def get_df(files: str) -> pd.DataFrame:\n",
    "    \"\"\"\n",
    "    Args:\n",
    "        files (str): Ссписок названий файлов\n",
    "\n",
    "    Returns:\n",
    "        pd.DataFrame: датасэт из всех xlsx файлов в формате DataFrame\n",
    "    \"\"\"\n",
    "    for i, file in enumerate(ALL_FILES):\n",
    "        month = int(file.split('.')[1])\n",
    "        if i == 0:\n",
    "            data = pd.read_excel(f'data/{month}/{file}')\n",
    "            data = conversion(data)\n",
    "            data['date'] = [file.split('.')[:2]] * len(data)\n",
    "            lenght = len(data)\n",
    "        else:\n",
    "            try:\n",
    "                data_plus = pd.read_excel(f'data/{month}/{file}')\n",
    "                data_plus = conversion(data_plus)\n",
    "                data_plus['date'] = [file.split('.')[:2]] * len(data_plus)\n",
    "                lenght += len(data_plus)\n",
    "                data = pd.concat([data, data_plus], axis=0)\n",
    "            except Exception:\n",
    "                continue\n",
    "    \n",
    "    data = data.drop(['Unnamed: 8', 'Unnamed: 9', 'С', 'Unnamed: 10'], axis=1)\n",
    "    print(f'data shape is {data.shape} should equal {lenght}')\n",
    "\n",
    "    return data"
   ]
  },
  {
   "cell_type": "code",
   "execution_count": 8,
   "metadata": {},
   "outputs": [
    {
     "ename": "KeyError",
     "evalue": "\"['С'] not found in axis\"",
     "output_type": "error",
     "traceback": [
      "\u001b[0;31m---------------------------------------------------------------------------\u001b[0m",
      "\u001b[0;31mKeyError\u001b[0m                                  Traceback (most recent call last)",
      "Cell \u001b[0;32mIn[8], line 1\u001b[0m\n\u001b[0;32m----> 1\u001b[0m df \u001b[39m=\u001b[39m get_df(ALL_FILES)\n",
      "Cell \u001b[0;32mIn[7], line 26\u001b[0m, in \u001b[0;36mget_df\u001b[0;34m(files)\u001b[0m\n\u001b[1;32m     23\u001b[0m         \u001b[39mexcept\u001b[39;00m \u001b[39mException\u001b[39;00m:\n\u001b[1;32m     24\u001b[0m             \u001b[39mcontinue\u001b[39;00m\n\u001b[0;32m---> 26\u001b[0m data \u001b[39m=\u001b[39m data\u001b[39m.\u001b[39;49mdrop([\u001b[39m'\u001b[39;49m\u001b[39mUnnamed: 8\u001b[39;49m\u001b[39m'\u001b[39;49m, \u001b[39m'\u001b[39;49m\u001b[39mUnnamed: 9\u001b[39;49m\u001b[39m'\u001b[39;49m, \u001b[39m'\u001b[39;49m\u001b[39mС\u001b[39;49m\u001b[39m'\u001b[39;49m, \u001b[39m'\u001b[39;49m\u001b[39mUnnamed: 10\u001b[39;49m\u001b[39m'\u001b[39;49m], axis\u001b[39m=\u001b[39;49m\u001b[39m1\u001b[39;49m)\n\u001b[1;32m     27\u001b[0m \u001b[39mprint\u001b[39m(\u001b[39mf\u001b[39m\u001b[39m'\u001b[39m\u001b[39mdata shape is \u001b[39m\u001b[39m{\u001b[39;00mdata\u001b[39m.\u001b[39mshape\u001b[39m}\u001b[39;00m\u001b[39m should equal \u001b[39m\u001b[39m{\u001b[39;00mlenght\u001b[39m}\u001b[39;00m\u001b[39m'\u001b[39m)\n\u001b[1;32m     29\u001b[0m \u001b[39mreturn\u001b[39;00m data\n",
      "File \u001b[0;32m~/.local/lib/python3.10/site-packages/pandas/util/_decorators.py:331\u001b[0m, in \u001b[0;36mdeprecate_nonkeyword_arguments.<locals>.decorate.<locals>.wrapper\u001b[0;34m(*args, **kwargs)\u001b[0m\n\u001b[1;32m    325\u001b[0m \u001b[39mif\u001b[39;00m \u001b[39mlen\u001b[39m(args) \u001b[39m>\u001b[39m num_allow_args:\n\u001b[1;32m    326\u001b[0m     warnings\u001b[39m.\u001b[39mwarn(\n\u001b[1;32m    327\u001b[0m         msg\u001b[39m.\u001b[39mformat(arguments\u001b[39m=\u001b[39m_format_argument_list(allow_args)),\n\u001b[1;32m    328\u001b[0m         \u001b[39mFutureWarning\u001b[39;00m,\n\u001b[1;32m    329\u001b[0m         stacklevel\u001b[39m=\u001b[39mfind_stack_level(),\n\u001b[1;32m    330\u001b[0m     )\n\u001b[0;32m--> 331\u001b[0m \u001b[39mreturn\u001b[39;00m func(\u001b[39m*\u001b[39;49margs, \u001b[39m*\u001b[39;49m\u001b[39m*\u001b[39;49mkwargs)\n",
      "File \u001b[0;32m~/.local/lib/python3.10/site-packages/pandas/core/frame.py:5396\u001b[0m, in \u001b[0;36mDataFrame.drop\u001b[0;34m(self, labels, axis, index, columns, level, inplace, errors)\u001b[0m\n\u001b[1;32m   5248\u001b[0m \u001b[39m@deprecate_nonkeyword_arguments\u001b[39m(version\u001b[39m=\u001b[39m\u001b[39mNone\u001b[39;00m, allowed_args\u001b[39m=\u001b[39m[\u001b[39m\"\u001b[39m\u001b[39mself\u001b[39m\u001b[39m\"\u001b[39m, \u001b[39m\"\u001b[39m\u001b[39mlabels\u001b[39m\u001b[39m\"\u001b[39m])\n\u001b[1;32m   5249\u001b[0m \u001b[39mdef\u001b[39;00m \u001b[39mdrop\u001b[39m(  \u001b[39m# type: ignore[override]\u001b[39;00m\n\u001b[1;32m   5250\u001b[0m     \u001b[39mself\u001b[39m,\n\u001b[0;32m   (...)\u001b[0m\n\u001b[1;32m   5257\u001b[0m     errors: IgnoreRaise \u001b[39m=\u001b[39m \u001b[39m\"\u001b[39m\u001b[39mraise\u001b[39m\u001b[39m\"\u001b[39m,\n\u001b[1;32m   5258\u001b[0m ) \u001b[39m-\u001b[39m\u001b[39m>\u001b[39m DataFrame \u001b[39m|\u001b[39m \u001b[39mNone\u001b[39;00m:\n\u001b[1;32m   5259\u001b[0m     \u001b[39m\"\"\"\u001b[39;00m\n\u001b[1;32m   5260\u001b[0m \u001b[39m    Drop specified labels from rows or columns.\u001b[39;00m\n\u001b[1;32m   5261\u001b[0m \n\u001b[0;32m   (...)\u001b[0m\n\u001b[1;32m   5394\u001b[0m \u001b[39m            weight  1.0     0.8\u001b[39;00m\n\u001b[1;32m   5395\u001b[0m \u001b[39m    \"\"\"\u001b[39;00m\n\u001b[0;32m-> 5396\u001b[0m     \u001b[39mreturn\u001b[39;00m \u001b[39msuper\u001b[39;49m()\u001b[39m.\u001b[39;49mdrop(\n\u001b[1;32m   5397\u001b[0m         labels\u001b[39m=\u001b[39;49mlabels,\n\u001b[1;32m   5398\u001b[0m         axis\u001b[39m=\u001b[39;49maxis,\n\u001b[1;32m   5399\u001b[0m         index\u001b[39m=\u001b[39;49mindex,\n\u001b[1;32m   5400\u001b[0m         columns\u001b[39m=\u001b[39;49mcolumns,\n\u001b[1;32m   5401\u001b[0m         level\u001b[39m=\u001b[39;49mlevel,\n\u001b[1;32m   5402\u001b[0m         inplace\u001b[39m=\u001b[39;49minplace,\n\u001b[1;32m   5403\u001b[0m         errors\u001b[39m=\u001b[39;49merrors,\n\u001b[1;32m   5404\u001b[0m     )\n",
      "File \u001b[0;32m~/.local/lib/python3.10/site-packages/pandas/util/_decorators.py:331\u001b[0m, in \u001b[0;36mdeprecate_nonkeyword_arguments.<locals>.decorate.<locals>.wrapper\u001b[0;34m(*args, **kwargs)\u001b[0m\n\u001b[1;32m    325\u001b[0m \u001b[39mif\u001b[39;00m \u001b[39mlen\u001b[39m(args) \u001b[39m>\u001b[39m num_allow_args:\n\u001b[1;32m    326\u001b[0m     warnings\u001b[39m.\u001b[39mwarn(\n\u001b[1;32m    327\u001b[0m         msg\u001b[39m.\u001b[39mformat(arguments\u001b[39m=\u001b[39m_format_argument_list(allow_args)),\n\u001b[1;32m    328\u001b[0m         \u001b[39mFutureWarning\u001b[39;00m,\n\u001b[1;32m    329\u001b[0m         stacklevel\u001b[39m=\u001b[39mfind_stack_level(),\n\u001b[1;32m    330\u001b[0m     )\n\u001b[0;32m--> 331\u001b[0m \u001b[39mreturn\u001b[39;00m func(\u001b[39m*\u001b[39;49margs, \u001b[39m*\u001b[39;49m\u001b[39m*\u001b[39;49mkwargs)\n",
      "File \u001b[0;32m~/.local/lib/python3.10/site-packages/pandas/core/generic.py:4505\u001b[0m, in \u001b[0;36mNDFrame.drop\u001b[0;34m(self, labels, axis, index, columns, level, inplace, errors)\u001b[0m\n\u001b[1;32m   4503\u001b[0m \u001b[39mfor\u001b[39;00m axis, labels \u001b[39min\u001b[39;00m axes\u001b[39m.\u001b[39mitems():\n\u001b[1;32m   4504\u001b[0m     \u001b[39mif\u001b[39;00m labels \u001b[39mis\u001b[39;00m \u001b[39mnot\u001b[39;00m \u001b[39mNone\u001b[39;00m:\n\u001b[0;32m-> 4505\u001b[0m         obj \u001b[39m=\u001b[39m obj\u001b[39m.\u001b[39;49m_drop_axis(labels, axis, level\u001b[39m=\u001b[39;49mlevel, errors\u001b[39m=\u001b[39;49merrors)\n\u001b[1;32m   4507\u001b[0m \u001b[39mif\u001b[39;00m inplace:\n\u001b[1;32m   4508\u001b[0m     \u001b[39mself\u001b[39m\u001b[39m.\u001b[39m_update_inplace(obj)\n",
      "File \u001b[0;32m~/.local/lib/python3.10/site-packages/pandas/core/generic.py:4546\u001b[0m, in \u001b[0;36mNDFrame._drop_axis\u001b[0;34m(self, labels, axis, level, errors, only_slice)\u001b[0m\n\u001b[1;32m   4544\u001b[0m         new_axis \u001b[39m=\u001b[39m axis\u001b[39m.\u001b[39mdrop(labels, level\u001b[39m=\u001b[39mlevel, errors\u001b[39m=\u001b[39merrors)\n\u001b[1;32m   4545\u001b[0m     \u001b[39melse\u001b[39;00m:\n\u001b[0;32m-> 4546\u001b[0m         new_axis \u001b[39m=\u001b[39m axis\u001b[39m.\u001b[39;49mdrop(labels, errors\u001b[39m=\u001b[39;49merrors)\n\u001b[1;32m   4547\u001b[0m     indexer \u001b[39m=\u001b[39m axis\u001b[39m.\u001b[39mget_indexer(new_axis)\n\u001b[1;32m   4549\u001b[0m \u001b[39m# Case for non-unique axis\u001b[39;00m\n\u001b[1;32m   4550\u001b[0m \u001b[39melse\u001b[39;00m:\n",
      "File \u001b[0;32m~/.local/lib/python3.10/site-packages/pandas/core/indexes/base.py:6977\u001b[0m, in \u001b[0;36mIndex.drop\u001b[0;34m(self, labels, errors)\u001b[0m\n\u001b[1;32m   6975\u001b[0m \u001b[39mif\u001b[39;00m mask\u001b[39m.\u001b[39many():\n\u001b[1;32m   6976\u001b[0m     \u001b[39mif\u001b[39;00m errors \u001b[39m!=\u001b[39m \u001b[39m\"\u001b[39m\u001b[39mignore\u001b[39m\u001b[39m\"\u001b[39m:\n\u001b[0;32m-> 6977\u001b[0m         \u001b[39mraise\u001b[39;00m \u001b[39mKeyError\u001b[39;00m(\u001b[39mf\u001b[39m\u001b[39m\"\u001b[39m\u001b[39m{\u001b[39;00m\u001b[39mlist\u001b[39m(labels[mask])\u001b[39m}\u001b[39;00m\u001b[39m not found in axis\u001b[39m\u001b[39m\"\u001b[39m)\n\u001b[1;32m   6978\u001b[0m     indexer \u001b[39m=\u001b[39m indexer[\u001b[39m~\u001b[39mmask]\n\u001b[1;32m   6979\u001b[0m \u001b[39mreturn\u001b[39;00m \u001b[39mself\u001b[39m\u001b[39m.\u001b[39mdelete(indexer)\n",
      "\u001b[0;31mKeyError\u001b[0m: \"['С'] not found in axis\""
     ]
    }
   ],
   "source": [
    "df = get_df(ALL_FILES)"
   ]
  },
  {
   "cell_type": "code",
   "execution_count": 95,
   "metadata": {},
   "outputs": [],
   "source": [
    "df['month'] = df['date'].apply(lambda x: int(x[1]))\n",
    "df['day'] = df['date'].apply(lambda x: int(x[0]))\n",
    "df = df.drop(['date'], axis=1)"
   ]
  },
  {
   "cell_type": "code",
   "execution_count": 96,
   "metadata": {},
   "outputs": [],
   "source": [
    "priсe_list ={\n",
    "    '1500': 650, '1000': 600, '2000': 700, '750': 550, '2500': 770, 'M': 610, 'L': 670, 'S': 550, '3500': 850, 'XS': 500,\n",
    "    'M (2)': 320, 'L (2)': 330, '1500 (1)': 330, '1000 (1)': 300, 'S (2)': 360, '2000 (1)': 350,\n",
    "    '750 (1)': 280, 'XS (2)': 330, '2500 (1)': 390, '1200': 630, '3500 (1)': 430, '1800': 680, '2400': 750\n",
    "    }\n",
    "df['price'] = df['ration'].map(priсe_list)"
   ]
  },
  {
   "cell_type": "code",
   "execution_count": 97,
   "metadata": {},
   "outputs": [],
   "source": [
    "month_dict = {1:'January', 2:'February', 3:'March', 4:'April', 5:'May', 6:'June',\n",
    "              7:'July', 8:'August', 9:'September', 10:'October', 11:'November', 12:'December'}\n",
    "df['month_st'] = df['month'].map(month_dict)"
   ]
  },
  {
   "cell_type": "markdown",
   "metadata": {},
   "source": [
    "### EDA"
   ]
  },
  {
   "cell_type": "code",
   "execution_count": 98,
   "metadata": {},
   "outputs": [],
   "source": [
    "ration = df['ration'].value_counts().sort_values(ascending=False)\n",
    "ration = pd.DataFrame({'ration': ration.index, 'count': ration.values})"
   ]
  },
  {
   "cell_type": "code",
   "execution_count": 99,
   "metadata": {},
   "outputs": [],
   "source": [
    "start = df['start'].value_counts()\n",
    "start = start.sort_values(ascending=False)\n",
    "start = pd.DataFrame({'start': start.index, 'count': start.values})"
   ]
  },
  {
   "cell_type": "code",
   "execution_count": 100,
   "metadata": {},
   "outputs": [
    {
     "data": {
      "image/png": "[encoded data removed]",
      "text/plain": [
       "<Figure size 1008x432 with 1 Axes>"
      ]
     },
     "metadata": {},
     "output_type": "display_data"
    }
   ],
   "source": [
    "fig = plt.figure(figsize=(14, 6))\n",
    "\n",
    "sns.barplot(x=ration['ration'], y=ration['count']);"
   ]
  },
  {
   "cell_type": "code",
   "execution_count": 101,
   "metadata": {},
   "outputs": [
    {
     "data": {
      "image/png": "[encoded data removed]",
      "text/plain": [
       "<Figure size 1008x432 with 1 Axes>"
      ]
     },
     "metadata": {},
     "output_type": "display_data"
    }
   ],
   "source": [
    "fig = plt.figure(figsize=(14, 6))\n",
    "\n",
    "sns.barplot(x=start['start'], y=start['count']);"
   ]
  },
  {
   "cell_type": "code",
   "execution_count": 183,
   "metadata": {},
   "outputs": [],
   "source": [
    "coef = []\n",
    "\n",
    "for fold in sorted(list(map(int, os.listdir(DIRECTORY_fold)))):\n",
    "    DIRECTORY_file = DIRECTORY_fold + '/' + str(fold)\n",
    "    files = os.listdir(DIRECTORY_file)\n",
    "    coef.append((fold, len(files)))\n",
    "\n",
    "coef = np.array([1 + (1 - i[1] / 30) for i in coef])"
   ]
  },
  {
   "cell_type": "code",
   "execution_count": 188,
   "metadata": {},
   "outputs": [
    {
     "data": {
      "image/png": "[encoded data removed]",
      "text/plain": [
       "<Figure size 1008x432 with 1 Axes>"
      ]
     },
     "metadata": {},
     "output_type": "display_data"
    }
   ],
   "source": [
    "group_m = df.groupby(['month','month_st'])['price'].sum()\n",
    "month_list = [x[1] for x in list(group_m.index)]\n",
    "\n",
    "fig = plt.figure(figsize=(14, 6))\n",
    "\n",
    "scater = sns.scatterplot(x=month_list, y=group_m.values * coef, color='#fff')\n",
    "line = sns.lineplot(x=month_list, y=group_m.values * coef, color='#1092c9', label='Выручка с учетом количества данных за каждый месяц')\n",
    "line2 = sns.lineplot(x=month_list, y=group_m.values, color='#e31037', label='Выручка без учета количества данных за каждый месяц')\n",
    "\n",
    "line.set(title='Выручка комании за каждый месяц', xlabel='Месяц', ylabel='Выручка')\n",
    "line.yaxis.set_tick_params(rotation=45)\n",
    "line.xaxis.set_tick_params(rotation=45)"
   ]
  },
  {
   "cell_type": "markdown",
   "metadata": {},
   "source": [
    "___"
   ]
  },
  {
   "cell_type": "code",
   "execution_count": 200,
   "metadata": {},
   "outputs": [],
   "source": [
    "s = 0\n",
    "\n",
    "for fold in sorted(list(map(int, os.listdir(DIRECTORY_fold)))):\n",
    "    DIRECTORY_file = DIRECTORY_fold + '/' + str(fold)\n",
    "    files = os.listdir(DIRECTORY_file)\n",
    "    s += len(files)\n",
    "\n",
    "df['num'] = df['num'].map(int)\n",
    "(df['num'].count()) / s"
   ]
  },
  {
   "cell_type": "code",
   "execution_count": 194,
   "metadata": {},
   "outputs": [
    {
     "data": {
      "text/html": [
       "<div>\n",
       "<style scoped>\n",
       "    .dataframe tbody tr th:only-of-type {\n",
       "        vertical-align: middle;\n",
       "    }\n",
       "\n",
       "    .dataframe tbody tr th {\n",
       "        vertical-align: top;\n",
       "    }\n",
       "\n",
       "    .dataframe thead th {\n",
       "        text-align: right;\n",
       "    }\n",
       "</style>\n",
       "<table border=\"1\" class=\"dataframe\">\n",
       "  <thead>\n",
       "    <tr style=\"text-align: right;\">\n",
       "      <th></th>\n",
       "      <th>num</th>\n",
       "      <th>ration</th>\n",
       "      <th>address</th>\n",
       "      <th>start</th>\n",
       "      <th>finish</th>\n",
       "      <th>comment</th>\n",
       "      <th>month</th>\n",
       "      <th>day</th>\n",
       "      <th>price</th>\n",
       "      <th>month_st</th>\n",
       "    </tr>\n",
       "  </thead>\n",
       "  <tbody>\n",
       "    <tr>\n",
       "      <th>0</th>\n",
       "      <td>1922333</td>\n",
       "      <td>1500</td>\n",
       "      <td>Россия, Свердловская область, Екатеринбург, Ор...</td>\n",
       "      <td>6</td>\n",
       "      <td>8</td>\n",
       "      <td></td>\n",
       "      <td>1</td>\n",
       "      <td>2</td>\n",
       "      <td>650</td>\n",
       "      <td>January</td>\n",
       "    </tr>\n",
       "    <tr>\n",
       "      <th>1</th>\n",
       "      <td>1922329</td>\n",
       "      <td>1500</td>\n",
       "      <td>Россия, Свердловская область, Екатеринбург, Ор...</td>\n",
       "      <td>6</td>\n",
       "      <td>8</td>\n",
       "      <td></td>\n",
       "      <td>1</td>\n",
       "      <td>2</td>\n",
       "      <td>650</td>\n",
       "      <td>January</td>\n",
       "    </tr>\n",
       "    <tr>\n",
       "      <th>2</th>\n",
       "      <td>1906894</td>\n",
       "      <td>M</td>\n",
       "      <td>Россия, Свердловская область, Екатеринбург, ул...</td>\n",
       "      <td>6</td>\n",
       "      <td>8</td>\n",
       "      <td>позвонить за полчаса.</td>\n",
       "      <td>1</td>\n",
       "      <td>2</td>\n",
       "      <td>610</td>\n",
       "      <td>January</td>\n",
       "    </tr>\n",
       "    <tr>\n",
       "      <th>3</th>\n",
       "      <td>1927891</td>\n",
       "      <td>2500</td>\n",
       "      <td>улица Феофанова, 2Г, Верхняя Пышма, Свердловск...</td>\n",
       "      <td>6</td>\n",
       "      <td>8</td>\n",
       "      <td></td>\n",
       "      <td>1</td>\n",
       "      <td>2</td>\n",
       "      <td>770</td>\n",
       "      <td>January</td>\n",
       "    </tr>\n",
       "    <tr>\n",
       "      <th>4</th>\n",
       "      <td>1928999</td>\n",
       "      <td>1500</td>\n",
       "      <td>Верхняя Пышма, село Балтым, ул Васильковая, 5 ...</td>\n",
       "      <td>7</td>\n",
       "      <td>9</td>\n",
       "      <td>Сдача 67р.</td>\n",
       "      <td>1</td>\n",
       "      <td>2</td>\n",
       "      <td>650</td>\n",
       "      <td>January</td>\n",
       "    </tr>\n",
       "    <tr>\n",
       "      <th>...</th>\n",
       "      <td>...</td>\n",
       "      <td>...</td>\n",
       "      <td>...</td>\n",
       "      <td>...</td>\n",
       "      <td>...</td>\n",
       "      <td>...</td>\n",
       "      <td>...</td>\n",
       "      <td>...</td>\n",
       "      <td>...</td>\n",
       "      <td>...</td>\n",
       "    </tr>\n",
       "    <tr>\n",
       "      <th>412</th>\n",
       "      <td>2471407</td>\n",
       "      <td>1500</td>\n",
       "      <td>Свердловская область, Екатеринбург, улица 8 Ма...</td>\n",
       "      <td>10</td>\n",
       "      <td>12</td>\n",
       "      <td></td>\n",
       "      <td>9</td>\n",
       "      <td>30</td>\n",
       "      <td>650</td>\n",
       "      <td>September</td>\n",
       "    </tr>\n",
       "    <tr>\n",
       "      <th>413</th>\n",
       "      <td>2474825</td>\n",
       "      <td>1500</td>\n",
       "      <td>улица Белинского, 161, Екатеринбург, Свердловс...</td>\n",
       "      <td>10</td>\n",
       "      <td>12</td>\n",
       "      <td></td>\n",
       "      <td>9</td>\n",
       "      <td>30</td>\n",
       "      <td>650</td>\n",
       "      <td>September</td>\n",
       "    </tr>\n",
       "    <tr>\n",
       "      <th>414</th>\n",
       "      <td>2476654</td>\n",
       "      <td>1000</td>\n",
       "      <td>Россия, Свердловская область, Екатеринбург, Ма...</td>\n",
       "      <td>10</td>\n",
       "      <td>12</td>\n",
       "      <td>2 ворота, вход со двора</td>\n",
       "      <td>9</td>\n",
       "      <td>30</td>\n",
       "      <td>600</td>\n",
       "      <td>September</td>\n",
       "    </tr>\n",
       "    <tr>\n",
       "      <th>415</th>\n",
       "      <td>2467237</td>\n",
       "      <td>750</td>\n",
       "      <td>Екатеринбург, ул Белинского, 182 , кв. 222, эт...</td>\n",
       "      <td>10</td>\n",
       "      <td>12</td>\n",
       "      <td></td>\n",
       "      <td>9</td>\n",
       "      <td>30</td>\n",
       "      <td>550</td>\n",
       "      <td>September</td>\n",
       "    </tr>\n",
       "    <tr>\n",
       "      <th>416</th>\n",
       "      <td>2465715</td>\n",
       "      <td>2000</td>\n",
       "      <td>Россия, Свердловская область, Екатеринбург, Ма...</td>\n",
       "      <td>10</td>\n",
       "      <td>12</td>\n",
       "      <td></td>\n",
       "      <td>9</td>\n",
       "      <td>30</td>\n",
       "      <td>700</td>\n",
       "      <td>September</td>\n",
       "    </tr>\n",
       "  </tbody>\n",
       "</table>\n",
       "<p>86644 rows × 10 columns</p>\n",
       "</div>"
      ],
      "text/plain": [
       "         num ration                                            address start  \\\n",
       "0    1922333   1500  Россия, Свердловская область, Екатеринбург, Ор...     6   \n",
       "1    1922329   1500  Россия, Свердловская область, Екатеринбург, Ор...     6   \n",
       "2    1906894      M  Россия, Свердловская область, Екатеринбург, ул...     6   \n",
       "3    1927891   2500  улица Феофанова, 2Г, Верхняя Пышма, Свердловск...     6   \n",
       "4    1928999   1500  Верхняя Пышма, село Балтым, ул Васильковая, 5 ...     7   \n",
       "..       ...    ...                                                ...   ...   \n",
       "412  2471407   1500  Свердловская область, Екатеринбург, улица 8 Ма...    10   \n",
       "413  2474825   1500  улица Белинского, 161, Екатеринбург, Свердловс...    10   \n",
       "414  2476654   1000  Россия, Свердловская область, Екатеринбург, Ма...    10   \n",
       "415  2467237    750  Екатеринбург, ул Белинского, 182 , кв. 222, эт...    10   \n",
       "416  2465715   2000  Россия, Свердловская область, Екатеринбург, Ма...    10   \n",
       "\n",
       "    finish                  comment  month  day  price   month_st  \n",
       "0        8                               1    2    650    January  \n",
       "1        8                               1    2    650    January  \n",
       "2        8    позвонить за полчаса.      1    2    610    January  \n",
       "3        8                               1    2    770    January  \n",
       "4        9               Сдача 67р.      1    2    650    January  \n",
       "..     ...                      ...    ...  ...    ...        ...  \n",
       "412     12                               9   30    650  September  \n",
       "413     12                               9   30    650  September  \n",
       "414     12  2 ворота, вход со двора      9   30    600  September  \n",
       "415     12                               9   30    550  September  \n",
       "416     12                               9   30    700  September  \n",
       "\n",
       "[86644 rows x 10 columns]"
      ]
     },
     "execution_count": 194,
     "metadata": {},
     "output_type": "execute_result"
    }
   ],
   "source": [
    "df"
   ]
  },
  {
   "cell_type": "code",
   "execution_count": 192,
   "metadata": {},
   "outputs": [],
   "source": [
    "def make_address_col(df):\n",
    "\n",
    "    #список адресов\n",
    "    list_of_address = list(df['address'])\n",
    "    list_of_address = [elem.replace('пр-кт', 'проспект') for elem in list_of_address]\n",
    "    # список адресов дальняков\n",
    "    area_list = ['Первоуральск', 'Верхняя Пышма', 'Ревда', 'Берёзовский', 'Заречный', 'деревня', \n",
    "                   'посёлок', 'район', 'микрорайон', 'СНТ', 'Среднеуральск', 'Полевской']\n",
    "\n",
    "    #созадем списки улицы, номера дома и города\n",
    "    street_list, house_list, area_true_list = [], [], []\n",
    "    for elem in list_of_address:\n",
    "        ls = elem.split(',')\n",
    "        for ind, name in enumerate(ls):\n",
    "            if 'ул' in name or 'улица' in name or 'проспект' in name or 'переулок' in name:\n",
    "                street_list.append(name)\n",
    "                house_list.append(ls[ind + 1])\n",
    "            else:\n",
    "                street_list.append('другое')\n",
    "\n",
    "    def get_area(address):\n",
    "    #функция возвращает город адреса доставки\n",
    "        for elem in address.split(','):\n",
    "            if elem in area_list:\n",
    "                return elem\n",
    "            else:\n",
    "                return 'Екатеринбург'\n",
    "\n",
    "    def get_true_num(num):\n",
    "    #функция меняет номер дома с корпусом на номер дома с корпусом,но уже без буквы \"к\" для geocodera\n",
    "        new_num = ''\n",
    "        for i in num:\n",
    "            if i == 'к':\n",
    "                new_num += '/'\n",
    "            else:\n",
    "                new_num += i\n",
    "        return new_num\n",
    "\n",
    "    df['street'] = street_list\n",
    "    df['house'] = house_list\n",
    "    df['house'] = df['house'].apply(get_true_num)\n",
    "    df['area'] = df['address'].apply(get_area)\n",
    "    df['short_address'] = df['street'] + ',' + df['house'] + ',' + df['area']\n",
    "    \n",
    "    return df"
   ]
  },
  {
   "cell_type": "code",
   "execution_count": 193,
   "metadata": {},
   "outputs": [
    {
     "ename": "IndexError",
     "evalue": "list index out of range",
     "output_type": "error",
     "traceback": [
      "\u001b[1;31m---------------------------------------------------------------------------\u001b[0m",
      "\u001b[1;31mIndexError\u001b[0m                                Traceback (most recent call last)",
      "\u001b[1;32mc:\\Users\\marcu\\OneDrive\\Рабочий стол\\YA\\MYDEV\\LevelKitchen\\analyze.ipynb Ячейка 19\u001b[0m in \u001b[0;36m<cell line: 1>\u001b[1;34m()\u001b[0m\n\u001b[1;32m----> <a href='vscode-notebook-cell:/c%3A/Users/marcu/OneDrive/%D0%A0%D0%B0%D0%B1%D0%BE%D1%87%D0%B8%D0%B9%20%D1%81%D1%82%D0%BE%D0%BB/YA/MYDEV/LevelKitchen/analyze.ipynb#X66sZmlsZQ%3D%3D?line=0'>1</a>\u001b[0m clear_data \u001b[39m=\u001b[39m make_address_col(df)\n",
      "\u001b[1;32mc:\\Users\\marcu\\OneDrive\\Рабочий стол\\YA\\MYDEV\\LevelKitchen\\analyze.ipynb Ячейка 19\u001b[0m in \u001b[0;36mmake_address_col\u001b[1;34m(df)\u001b[0m\n\u001b[0;32m     <a href='vscode-notebook-cell:/c%3A/Users/marcu/OneDrive/%D0%A0%D0%B0%D0%B1%D0%BE%D1%87%D0%B8%D0%B9%20%D1%81%D1%82%D0%BE%D0%BB/YA/MYDEV/LevelKitchen/analyze.ipynb#X66sZmlsZQ%3D%3D?line=14'>15</a>\u001b[0m \u001b[39mif\u001b[39;00m \u001b[39m'\u001b[39m\u001b[39mул\u001b[39m\u001b[39m'\u001b[39m \u001b[39min\u001b[39;00m name \u001b[39mor\u001b[39;00m \u001b[39m'\u001b[39m\u001b[39mулица\u001b[39m\u001b[39m'\u001b[39m \u001b[39min\u001b[39;00m name \u001b[39mor\u001b[39;00m \u001b[39m'\u001b[39m\u001b[39mпроспект\u001b[39m\u001b[39m'\u001b[39m \u001b[39min\u001b[39;00m name \u001b[39mor\u001b[39;00m \u001b[39m'\u001b[39m\u001b[39mпереулок\u001b[39m\u001b[39m'\u001b[39m \u001b[39min\u001b[39;00m name:\n\u001b[0;32m     <a href='vscode-notebook-cell:/c%3A/Users/marcu/OneDrive/%D0%A0%D0%B0%D0%B1%D0%BE%D1%87%D0%B8%D0%B9%20%D1%81%D1%82%D0%BE%D0%BB/YA/MYDEV/LevelKitchen/analyze.ipynb#X66sZmlsZQ%3D%3D?line=15'>16</a>\u001b[0m     street_list\u001b[39m.\u001b[39mappend(name)\n\u001b[1;32m---> <a href='vscode-notebook-cell:/c%3A/Users/marcu/OneDrive/%D0%A0%D0%B0%D0%B1%D0%BE%D1%87%D0%B8%D0%B9%20%D1%81%D1%82%D0%BE%D0%BB/YA/MYDEV/LevelKitchen/analyze.ipynb#X66sZmlsZQ%3D%3D?line=16'>17</a>\u001b[0m     house_list\u001b[39m.\u001b[39mappend(ls[ind \u001b[39m+\u001b[39;49m \u001b[39m1\u001b[39;49m])\n\u001b[0;32m     <a href='vscode-notebook-cell:/c%3A/Users/marcu/OneDrive/%D0%A0%D0%B0%D0%B1%D0%BE%D1%87%D0%B8%D0%B9%20%D1%81%D1%82%D0%BE%D0%BB/YA/MYDEV/LevelKitchen/analyze.ipynb#X66sZmlsZQ%3D%3D?line=17'>18</a>\u001b[0m \u001b[39melse\u001b[39;00m:\n\u001b[0;32m     <a href='vscode-notebook-cell:/c%3A/Users/marcu/OneDrive/%D0%A0%D0%B0%D0%B1%D0%BE%D1%87%D0%B8%D0%B9%20%D1%81%D1%82%D0%BE%D0%BB/YA/MYDEV/LevelKitchen/analyze.ipynb#X66sZmlsZQ%3D%3D?line=18'>19</a>\u001b[0m     street_list\u001b[39m.\u001b[39mappend(\u001b[39m'\u001b[39m\u001b[39mдругое\u001b[39m\u001b[39m'\u001b[39m)\n",
      "\u001b[1;31mIndexError\u001b[0m: list index out of range"
     ]
    }
   ],
   "source": [
    "clear_data = make_address_col(df)"
   ]
  },
  {
   "cell_type": "code",
   "execution_count": null,
   "metadata": {},
   "outputs": [],
   "source": [
    "xlim = (56.760482, 60.392160), (56.761477, 60.826150)\n",
    "ylim = (60.392160, 56.760482), (56.974103, 60.380835)"
   ]
  }
 ],
 "metadata": {
  "kernelspec": {
   "display_name": "Python 3.10.6 64-bit",
   "language": "python",
   "name": "python3"
  },
  "language_info": {
   "codemirror_mode": {
    "name": "ipython",
    "version": 3
   },
   "file_extension": ".py",
   "mimetype": "text/x-python",
   "name": "python",
   "nbconvert_exporter": "python",
   "pygments_lexer": "ipython3",
   "version": "3.10.6"
  },
  "orig_nbformat": 4,
  "vscode": {
   "interpreter": {
    "hash": "916dbcbb3f70747c44a77c7bcd40155683ae19c65e1c03b4aa3499c5328201f1"
   }
  }
 },
 "nbformat": 4,
 "nbformat_minor": 2
}
